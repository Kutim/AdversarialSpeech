{
 "cells": [
  {
   "cell_type": "code",
   "execution_count": 1,
   "metadata": {
    "collapsed": true
   },
   "outputs": [],
   "source": [
    "import numpy as np\n",
    "import pandas as pd"
   ]
  },
  {
   "cell_type": "markdown",
   "metadata": {},
   "source": [
    "## After 1 iteration"
   ]
  },
  {
   "cell_type": "code",
   "execution_count": 26,
   "metadata": {
    "collapsed": true
   },
   "outputs": [],
   "source": [
    "adv1_ex_file = \"adv_x1.npy\"\n",
    "orig1_ex_file = \"orig_x1.npy\"\n",
    "\n",
    "orig1 = []\n",
    "for i in range(8): # instead of 8, maybe it should be \"load until I can't anymore\"\n",
    "    orig1.append(np.load(orig1_ex_file))\n",
    "    \n",
    "adv1 = []\n",
    "for i in range(8): # instead of 8, maybe it should be \"load until I can't anymore\"\n",
    "    adv1.append(np.load(adv1_ex_file))"
   ]
  },
  {
   "cell_type": "code",
   "execution_count": 27,
   "metadata": {
    "collapsed": true
   },
   "outputs": [],
   "source": [
    "test_vs_pred_file1 = \"preds_vs_labels1.tsv\"\n",
    "tp1 = pd.read_table(test_vs_pred_file1)"
   ]
  },
  {
   "cell_type": "code",
   "execution_count": 28,
   "metadata": {},
   "outputs": [
    {
     "data": {
      "text/html": [
       "<div>\n",
       "<table border=\"1\" class=\"dataframe\">\n",
       "  <thead>\n",
       "    <tr style=\"text-align: right;\">\n",
       "      <th></th>\n",
       "      <th>filename</th>\n",
       "      <th>same_diff</th>\n",
       "      <th>pred_on_orig</th>\n",
       "      <th>pred_on_adv</th>\n",
       "      <th>target</th>\n",
       "      <th>num_pred_on_orig</th>\n",
       "      <th>num_pred_on_adv</th>\n",
       "      <th>num_target</th>\n",
       "    </tr>\n",
       "  </thead>\n",
       "  <tbody>\n",
       "    <tr>\n",
       "      <th>0</th>\n",
       "      <td>p271_113.wav</td>\n",
       "      <td>DIFF</td>\n",
       "      <td>acording to the criteria he is qalified for sco</td>\n",
       "      <td>acording to the crateria he is qualified for sco</td>\n",
       "      <td>according to the criteria he is qualified for ...</td>\n",
       "      <td>2 4 16 19 5 10 15 8 1 21 16 1 21 9 6 1 4 19 10...</td>\n",
       "      <td>2 4 16 19 5 10 15 8 1 21 16 1 21 9 6 1 4 19 2 ...</td>\n",
       "      <td>2 4 4 16 19 5 10 15 8 1 21 16 1 21 9 6 1 4 19 ...</td>\n",
       "    </tr>\n",
       "    <tr>\n",
       "      <th>1</th>\n",
       "      <td>p271_126.wav</td>\n",
       "      <td>SAME</td>\n",
       "      <td>the people wil come</td>\n",
       "      <td>the people wil come</td>\n",
       "      <td>the people will come</td>\n",
       "      <td>21 9 6 1 17 6 16 17 13 6 1 24 10 13 1 4 16 14 6</td>\n",
       "      <td>21 9 6 1 17 6 16 17 13 6 1 24 10 13 1 4 16 14 6</td>\n",
       "      <td>21 9 6 1 17 6 16 17 13 6 1 24 10 13 13 1 4 16 ...</td>\n",
       "    </tr>\n",
       "    <tr>\n",
       "      <th>2</th>\n",
       "      <td>p271_130.wav</td>\n",
       "      <td>SAME</td>\n",
       "      <td>we work wel together</td>\n",
       "      <td>we work wel together</td>\n",
       "      <td>we work well together</td>\n",
       "      <td>24 6 1 24 16 19 12 1 24 6 13 1 21 16 8 6 21 9 ...</td>\n",
       "      <td>24 6 1 24 16 19 12 1 24 6 13 1 21 16 8 6 21 9 ...</td>\n",
       "      <td>24 6 1 24 16 19 12 1 24 6 13 13 1 21 16 8 6 21...</td>\n",
       "    </tr>\n",
       "    <tr>\n",
       "      <th>3</th>\n",
       "      <td>p271_117.wav</td>\n",
       "      <td>SAME</td>\n",
       "      <td>i did not se any reason to change the captain</td>\n",
       "      <td>i did not se any reason to change the captain</td>\n",
       "      <td>i did not see any reason to change the captain</td>\n",
       "      <td>10 1 5 10 5 1 15 16 21 1 20 6 1 2 15 26 1 19 6...</td>\n",
       "      <td>10 1 5 10 5 1 15 16 21 1 20 6 1 2 15 26 1 19 6...</td>\n",
       "      <td>10 1 5 10 5 1 15 16 21 1 20 6 6 1 2 15 26 1 19...</td>\n",
       "    </tr>\n",
       "    <tr>\n",
       "      <th>4</th>\n",
       "      <td>p271_111.wav</td>\n",
       "      <td>SAME</td>\n",
       "      <td>the cause of the fire is not yet known</td>\n",
       "      <td>the cause of the fire is not yet known</td>\n",
       "      <td>the cause of the fire is not yet known</td>\n",
       "      <td>21 9 6 1 4 2 22 20 6 1 16 7 1 21 9 6 1 7 10 19...</td>\n",
       "      <td>21 9 6 1 4 2 22 20 6 1 16 7 1 21 9 6 1 7 10 19...</td>\n",
       "      <td>21 9 6 1 4 2 22 20 6 1 16 7 1 21 9 6 1 7 10 19...</td>\n",
       "    </tr>\n",
       "  </tbody>\n",
       "</table>\n",
       "</div>"
      ],
      "text/plain": [
       "       filename same_diff                                     pred_on_orig  \\\n",
       "0  p271_113.wav      DIFF  acording to the criteria he is qalified for sco   \n",
       "1  p271_126.wav      SAME                              the people wil come   \n",
       "2  p271_130.wav      SAME                             we work wel together   \n",
       "3  p271_117.wav      SAME    i did not se any reason to change the captain   \n",
       "4  p271_111.wav      SAME           the cause of the fire is not yet known   \n",
       "\n",
       "                                        pred_on_adv  \\\n",
       "0  acording to the crateria he is qualified for sco   \n",
       "1                               the people wil come   \n",
       "2                              we work wel together   \n",
       "3     i did not se any reason to change the captain   \n",
       "4            the cause of the fire is not yet known   \n",
       "\n",
       "                                              target  \\\n",
       "0  according to the criteria he is qualified for ...   \n",
       "1                               the people will come   \n",
       "2                              we work well together   \n",
       "3     i did not see any reason to change the captain   \n",
       "4             the cause of the fire is not yet known   \n",
       "\n",
       "                                    num_pred_on_orig  \\\n",
       "0  2 4 16 19 5 10 15 8 1 21 16 1 21 9 6 1 4 19 10...   \n",
       "1    21 9 6 1 17 6 16 17 13 6 1 24 10 13 1 4 16 14 6   \n",
       "2  24 6 1 24 16 19 12 1 24 6 13 1 21 16 8 6 21 9 ...   \n",
       "3  10 1 5 10 5 1 15 16 21 1 20 6 1 2 15 26 1 19 6...   \n",
       "4  21 9 6 1 4 2 22 20 6 1 16 7 1 21 9 6 1 7 10 19...   \n",
       "\n",
       "                                     num_pred_on_adv  \\\n",
       "0  2 4 16 19 5 10 15 8 1 21 16 1 21 9 6 1 4 19 2 ...   \n",
       "1    21 9 6 1 17 6 16 17 13 6 1 24 10 13 1 4 16 14 6   \n",
       "2  24 6 1 24 16 19 12 1 24 6 13 1 21 16 8 6 21 9 ...   \n",
       "3  10 1 5 10 5 1 15 16 21 1 20 6 1 2 15 26 1 19 6...   \n",
       "4  21 9 6 1 4 2 22 20 6 1 16 7 1 21 9 6 1 7 10 19...   \n",
       "\n",
       "                                          num_target  \n",
       "0  2 4 4 16 19 5 10 15 8 1 21 16 1 21 9 6 1 4 19 ...  \n",
       "1  21 9 6 1 17 6 16 17 13 6 1 24 10 13 13 1 4 16 ...  \n",
       "2  24 6 1 24 16 19 12 1 24 6 13 13 1 21 16 8 6 21...  \n",
       "3  10 1 5 10 5 1 15 16 21 1 20 6 6 1 2 15 26 1 19...  \n",
       "4  21 9 6 1 4 2 22 20 6 1 16 7 1 21 9 6 1 7 10 19...  "
      ]
     },
     "execution_count": 28,
     "metadata": {},
     "output_type": "execute_result"
    }
   ],
   "source": [
    "tp1[:5]"
   ]
  },
  {
   "cell_type": "markdown",
   "metadata": {},
   "source": [
    "## After 5 iterations"
   ]
  },
  {
   "cell_type": "code",
   "execution_count": 17,
   "metadata": {
    "collapsed": true
   },
   "outputs": [],
   "source": [
    "adv_ex_file = \"adv_x_iters.npy\"\n",
    "orig_ex_file = \"orig_x_iters.npy\""
   ]
  },
  {
   "cell_type": "code",
   "execution_count": 18,
   "metadata": {
    "collapsed": true
   },
   "outputs": [],
   "source": [
    "orig = np.load(orig_ex_file)"
   ]
  },
  {
   "cell_type": "code",
   "execution_count": 19,
   "metadata": {
    "collapsed": true
   },
   "outputs": [],
   "source": [
    "adv = np.load(adv_ex_file)"
   ]
  },
  {
   "cell_type": "code",
   "execution_count": 20,
   "metadata": {},
   "outputs": [
    {
     "name": "stdout",
     "output_type": "stream",
     "text": [
      "(16, 159, 20)\n",
      "(16, 161, 20)\n"
     ]
    }
   ],
   "source": [
    "print orig.shape\n",
    "print adv.shape"
   ]
  },
  {
   "cell_type": "code",
   "execution_count": 8,
   "metadata": {
    "collapsed": true
   },
   "outputs": [],
   "source": [
    "orig = []\n",
    "for i in range(8): # instead of 8, maybe it should be \"load until I can't anymore\"\n",
    "    orig.append(np.load(orig_ex_file))"
   ]
  },
  {
   "cell_type": "code",
   "execution_count": 9,
   "metadata": {},
   "outputs": [
    {
     "data": {
      "text/plain": [
       "8"
      ]
     },
     "execution_count": 9,
     "metadata": {},
     "output_type": "execute_result"
    }
   ],
   "source": [
    "len(orig)"
   ]
  },
  {
   "cell_type": "code",
   "execution_count": 10,
   "metadata": {
    "collapsed": true
   },
   "outputs": [],
   "source": [
    "adv = []\n",
    "for i in range(8): # instead of 8, maybe it should be \"load until I can't anymore\"\n",
    "    adv.append(np.load(adv_ex_file))"
   ]
  },
  {
   "cell_type": "code",
   "execution_count": 21,
   "metadata": {
    "collapsed": true
   },
   "outputs": [],
   "source": [
    "test_vs_pred5_file = \"preds_vs_labels_iters.tsv\""
   ]
  },
  {
   "cell_type": "code",
   "execution_count": 23,
   "metadata": {
    "collapsed": true
   },
   "outputs": [],
   "source": [
    "tp5 = pd.read_table(test_vs_pred5_file)"
   ]
  },
  {
   "cell_type": "code",
   "execution_count": 24,
   "metadata": {},
   "outputs": [
    {
     "data": {
      "text/html": [
       "<div>\n",
       "<table border=\"1\" class=\"dataframe\">\n",
       "  <thead>\n",
       "    <tr style=\"text-align: right;\">\n",
       "      <th></th>\n",
       "      <th>filename</th>\n",
       "      <th>same_diff</th>\n",
       "      <th>pred_on_orig</th>\n",
       "      <th>pred_on_adv</th>\n",
       "      <th>target</th>\n",
       "      <th>num_pred_on_orig</th>\n",
       "      <th>num_pred_on_adv</th>\n",
       "      <th>num_target</th>\n",
       "    </tr>\n",
       "  </thead>\n",
       "  <tbody>\n",
       "    <tr>\n",
       "      <th>0</th>\n",
       "      <td>p271_097.wav</td>\n",
       "      <td>DIFF</td>\n",
       "      <td>then came the crunch</td>\n",
       "      <td>what wil hapen then</td>\n",
       "      <td>then came the crunch</td>\n",
       "      <td>21 9 6 15 1 4 2 14 6 1 21 9 6 1 4 19 22 15 4 9</td>\n",
       "      <td>24 9 2 21 1 24 10 13 1 9 2 17 6 15 1 21 9 6 15</td>\n",
       "      <td>21 9 6 15 1 4 2 14 6 1 21 9 6 1 4 19 22 15 4 9</td>\n",
       "    </tr>\n",
       "    <tr>\n",
       "      <th>1</th>\n",
       "      <td>p271_136.wav</td>\n",
       "      <td>DIFF</td>\n",
       "      <td>is that it</td>\n",
       "      <td>it is home gron</td>\n",
       "      <td>is that it</td>\n",
       "      <td>10 20 1 21 9 2 21 1 10 21</td>\n",
       "      <td>10 21 1 10 20 1 9 16 14 6 1 8 19 16 15</td>\n",
       "      <td>10 20 1 21 9 2 21 1 10 21</td>\n",
       "    </tr>\n",
       "    <tr>\n",
       "      <th>2</th>\n",
       "      <td>p271_101.wav</td>\n",
       "      <td>DIFF</td>\n",
       "      <td>i wish i had puton a briger tye</td>\n",
       "      <td>i was dead</td>\n",
       "      <td>i wish i had put on a brighter tie</td>\n",
       "      <td>10 1 24 10 20 9 1 10 1 9 2 5 1 17 22 21 16 15 ...</td>\n",
       "      <td>10 1 24 2 20 1 5 6 2 5</td>\n",
       "      <td>10 1 24 10 20 9 1 10 1 9 2 5 1 17 22 21 1 16 1...</td>\n",
       "    </tr>\n",
       "    <tr>\n",
       "      <th>3</th>\n",
       "      <td>p271_147.wav</td>\n",
       "      <td>DIFF</td>\n",
       "      <td>i was awful</td>\n",
       "      <td>if people are jenuin then the problem is now s...</td>\n",
       "      <td>i was awful</td>\n",
       "      <td>10 1 24 2 20 1 2 24 7 22 13</td>\n",
       "      <td>10 7 1 17 6 16 17 13 6 1 2 19 6 1 11 6 15 22 1...</td>\n",
       "      <td>10 1 24 2 20 1 2 24 7 22 13</td>\n",
       "    </tr>\n",
       "    <tr>\n",
       "      <th>4</th>\n",
       "      <td>p271_116.wav</td>\n",
       "      <td>DIFF</td>\n",
       "      <td>it was the eities</td>\n",
       "      <td>she reflects a it</td>\n",
       "      <td>it was the eighties</td>\n",
       "      <td>10 21 1 24 2 20 1 21 9 6 1 6 10 21 10 6 20</td>\n",
       "      <td>20 9 6 1 19 6 7 13 6 4 21 20 1 2 1 10 21</td>\n",
       "      <td>10 21 1 24 2 20 1 21 9 6 1 6 10 8 9 21 10 6 20</td>\n",
       "    </tr>\n",
       "  </tbody>\n",
       "</table>\n",
       "</div>"
      ],
      "text/plain": [
       "       filename same_diff                     pred_on_orig  \\\n",
       "0  p271_097.wav      DIFF             then came the crunch   \n",
       "1  p271_136.wav      DIFF                       is that it   \n",
       "2  p271_101.wav      DIFF  i wish i had puton a briger tye   \n",
       "3  p271_147.wav      DIFF                      i was awful   \n",
       "4  p271_116.wav      DIFF                it was the eities   \n",
       "\n",
       "                                         pred_on_adv  \\\n",
       "0                                what wil hapen then   \n",
       "1                                    it is home gron   \n",
       "2                                         i was dead   \n",
       "3  if people are jenuin then the problem is now s...   \n",
       "4                                  she reflects a it   \n",
       "\n",
       "                               target  \\\n",
       "0                then came the crunch   \n",
       "1                          is that it   \n",
       "2  i wish i had put on a brighter tie   \n",
       "3                         i was awful   \n",
       "4                 it was the eighties   \n",
       "\n",
       "                                    num_pred_on_orig  \\\n",
       "0     21 9 6 15 1 4 2 14 6 1 21 9 6 1 4 19 22 15 4 9   \n",
       "1                          10 20 1 21 9 2 21 1 10 21   \n",
       "2  10 1 24 10 20 9 1 10 1 9 2 5 1 17 22 21 16 15 ...   \n",
       "3                        10 1 24 2 20 1 2 24 7 22 13   \n",
       "4         10 21 1 24 2 20 1 21 9 6 1 6 10 21 10 6 20   \n",
       "\n",
       "                                     num_pred_on_adv  \\\n",
       "0     24 9 2 21 1 24 10 13 1 9 2 17 6 15 1 21 9 6 15   \n",
       "1             10 21 1 10 20 1 9 16 14 6 1 8 19 16 15   \n",
       "2                             10 1 24 2 20 1 5 6 2 5   \n",
       "3  10 7 1 17 6 16 17 13 6 1 2 19 6 1 11 6 15 22 1...   \n",
       "4           20 9 6 1 19 6 7 13 6 4 21 20 1 2 1 10 21   \n",
       "\n",
       "                                          num_target  \n",
       "0     21 9 6 15 1 4 2 14 6 1 21 9 6 1 4 19 22 15 4 9  \n",
       "1                          10 20 1 21 9 2 21 1 10 21  \n",
       "2  10 1 24 10 20 9 1 10 1 9 2 5 1 17 22 21 1 16 1...  \n",
       "3                        10 1 24 2 20 1 2 24 7 22 13  \n",
       "4     10 21 1 24 2 20 1 21 9 6 1 6 10 8 9 21 10 6 20  "
      ]
     },
     "execution_count": 24,
     "metadata": {},
     "output_type": "execute_result"
    }
   ],
   "source": [
    "tp5[:5]"
   ]
  },
  {
   "cell_type": "markdown",
   "metadata": {},
   "source": [
    "## 10 Iterations"
   ]
  },
  {
   "cell_type": "code",
   "execution_count": 4,
   "metadata": {
    "collapsed": true
   },
   "outputs": [],
   "source": [
    "adv100_ex_file = \"adv_x_iters10.npy\"\n",
    "orig100_ex_file = \"orig_x_iters10.npy\""
   ]
  },
  {
   "cell_type": "code",
   "execution_count": 5,
   "metadata": {},
   "outputs": [],
   "source": [
    "orig10 = []\n",
    "for i in range(8): # instead of 8, maybe it should be \"load until I can't anymore\"\n",
    "    orig100.append(np.load(orig100_ex_file))\n",
    "    \n",
    "adv100 = []\n",
    "for i in range(8): # instead of 8, maybe it should be \"load until I can't anymore\"\n",
    "    adv100.append(np.load(adv100_ex_file))"
   ]
  },
  {
   "cell_type": "code",
   "execution_count": 7,
   "metadata": {},
   "outputs": [],
   "source": [
    "test_vs_pred10_file = \"preds_vs_labels_iters10.tsv\"\n",
    "tp10 = pd.read_table(test_vs_pred10_file)"
   ]
  },
  {
   "cell_type": "code",
   "execution_count": 8,
   "metadata": {},
   "outputs": [
    {
     "data": {
      "text/html": [
       "<div>\n",
       "<table border=\"1\" class=\"dataframe\">\n",
       "  <thead>\n",
       "    <tr style=\"text-align: right;\">\n",
       "      <th></th>\n",
       "      <th>filename</th>\n",
       "      <th>same_diff</th>\n",
       "      <th>pred_on_orig</th>\n",
       "      <th>pred_on_adv</th>\n",
       "      <th>target</th>\n",
       "      <th>num_pred_on_orig</th>\n",
       "      <th>num_pred_on_adv</th>\n",
       "      <th>num_target</th>\n",
       "    </tr>\n",
       "  </thead>\n",
       "  <tbody>\n",
       "    <tr>\n",
       "      <th>0</th>\n",
       "      <td>p271_100.wav</td>\n",
       "      <td>DIFF</td>\n",
       "      <td>they are no devorced</td>\n",
       "      <td>the proporsals are to be debated on monday by ...</td>\n",
       "      <td>they are now divorced</td>\n",
       "      <td>21 9 6 26 1 2 19 6 1 15 16 1 5 6 23 16 19 4 6 5</td>\n",
       "      <td>21 9 6 1 17 19 16 17 16 19 20 2 13 20 1 2 19 6...</td>\n",
       "      <td>21 9 6 26 1 2 19 6 1 15 16 24 1 5 10 23 16 19 ...</td>\n",
       "    </tr>\n",
       "    <tr>\n",
       "      <th>1</th>\n",
       "      <td>p271_115.wav</td>\n",
       "      <td>DIFF</td>\n",
       "      <td>he leaves a wife a son ander dauhter</td>\n",
       "      <td>is that it</td>\n",
       "      <td>he leaves a wife a son and a daughter</td>\n",
       "      <td>9 6 1 13 6 2 23 6 20 1 2 1 24 10 7 6 1 2 1 20 ...</td>\n",
       "      <td>10 20 1 21 9 2 21 1 10 21</td>\n",
       "      <td>9 6 1 13 6 2 23 6 20 1 2 1 24 10 7 6 1 2 1 20 ...</td>\n",
       "    </tr>\n",
       "    <tr>\n",
       "      <th>2</th>\n",
       "      <td>p271_142.wav</td>\n",
       "      <td>DIFF</td>\n",
       "      <td>sudenly the fir park side were in dhisaray</td>\n",
       "      <td>alice the girl was said by doctors to be in go...</td>\n",
       "      <td>suddenly the fir park side were in disarray</td>\n",
       "      <td>20 22 5 6 15 13 26 1 21 9 6 1 7 10 19 1 17 2 1...</td>\n",
       "      <td>2 13 10 4 6 1 21 9 6 1 8 10 19 13 1 24 2 20 1 ...</td>\n",
       "      <td>20 22 5 5 6 15 13 26 1 21 9 6 1 7 10 19 1 17 2...</td>\n",
       "    </tr>\n",
       "    <tr>\n",
       "      <th>3</th>\n",
       "      <td>p271_103.wav</td>\n",
       "      <td>DIFF</td>\n",
       "      <td>however we have not come to any conclusions</td>\n",
       "      <td>she reflects a it</td>\n",
       "      <td>however we have not come to any conclusions</td>\n",
       "      <td>9 16 24 6 23 6 19 1 24 6 1 9 2 23 6 1 15 16 21...</td>\n",
       "      <td>20 9 6 1 19 6 7 13 6 4 21 20 1 2 1 10 21</td>\n",
       "      <td>9 16 24 6 23 6 19 1 24 6 1 9 2 23 6 1 15 16 21...</td>\n",
       "    </tr>\n",
       "    <tr>\n",
       "      <th>4</th>\n",
       "      <td>p271_122.wav</td>\n",
       "      <td>DIFF</td>\n",
       "      <td>that was the weston to be learned from the yea...</td>\n",
       "      <td>i am a nactor</td>\n",
       "      <td>that was the lesson to be learned from the eur...</td>\n",
       "      <td>21 9 2 21 1 24 2 20 1 21 9 6 1 24 6 20 21 16 1...</td>\n",
       "      <td>10 1 2 14 1 2 1 15 2 4 21 16 19</td>\n",
       "      <td>21 9 2 21 1 24 2 20 1 21 9 6 1 13 6 20 20 16 1...</td>\n",
       "    </tr>\n",
       "  </tbody>\n",
       "</table>\n",
       "</div>"
      ],
      "text/plain": [
       "       filename same_diff                                       pred_on_orig  \\\n",
       "0  p271_100.wav      DIFF                               they are no devorced   \n",
       "1  p271_115.wav      DIFF               he leaves a wife a son ander dauhter   \n",
       "2  p271_142.wav      DIFF         sudenly the fir park side were in dhisaray   \n",
       "3  p271_103.wav      DIFF        however we have not come to any conclusions   \n",
       "4  p271_122.wav      DIFF  that was the weston to be learned from the yea...   \n",
       "\n",
       "                                         pred_on_adv  \\\n",
       "0  the proporsals are to be debated on monday by ...   \n",
       "1                                         is that it   \n",
       "2  alice the girl was said by doctors to be in go...   \n",
       "3                                  she reflects a it   \n",
       "4                                      i am a nactor   \n",
       "\n",
       "                                              target  \\\n",
       "0                              they are now divorced   \n",
       "1              he leaves a wife a son and a daughter   \n",
       "2        suddenly the fir park side were in disarray   \n",
       "3        however we have not come to any conclusions   \n",
       "4  that was the lesson to be learned from the eur...   \n",
       "\n",
       "                                    num_pred_on_orig  \\\n",
       "0    21 9 6 26 1 2 19 6 1 15 16 1 5 6 23 16 19 4 6 5   \n",
       "1  9 6 1 13 6 2 23 6 20 1 2 1 24 10 7 6 1 2 1 20 ...   \n",
       "2  20 22 5 6 15 13 26 1 21 9 6 1 7 10 19 1 17 2 1...   \n",
       "3  9 16 24 6 23 6 19 1 24 6 1 9 2 23 6 1 15 16 21...   \n",
       "4  21 9 2 21 1 24 2 20 1 21 9 6 1 24 6 20 21 16 1...   \n",
       "\n",
       "                                     num_pred_on_adv  \\\n",
       "0  21 9 6 1 17 19 16 17 16 19 20 2 13 20 1 2 19 6...   \n",
       "1                          10 20 1 21 9 2 21 1 10 21   \n",
       "2  2 13 10 4 6 1 21 9 6 1 8 10 19 13 1 24 2 20 1 ...   \n",
       "3           20 9 6 1 19 6 7 13 6 4 21 20 1 2 1 10 21   \n",
       "4                    10 1 2 14 1 2 1 15 2 4 21 16 19   \n",
       "\n",
       "                                          num_target  \n",
       "0  21 9 6 26 1 2 19 6 1 15 16 24 1 5 10 23 16 19 ...  \n",
       "1  9 6 1 13 6 2 23 6 20 1 2 1 24 10 7 6 1 2 1 20 ...  \n",
       "2  20 22 5 5 6 15 13 26 1 21 9 6 1 7 10 19 1 17 2...  \n",
       "3  9 16 24 6 23 6 19 1 24 6 1 9 2 23 6 1 15 16 21...  \n",
       "4  21 9 2 21 1 24 2 20 1 21 9 6 1 13 6 20 20 16 1...  "
      ]
     },
     "execution_count": 8,
     "metadata": {},
     "output_type": "execute_result"
    }
   ],
   "source": [
    "tp10[:5]"
   ]
  }
 ],
 "metadata": {
  "kernelspec": {
   "display_name": "Python 2",
   "language": "python",
   "name": "python2"
  },
  "language_info": {
   "codemirror_mode": {
    "name": "ipython",
    "version": 2
   },
   "file_extension": ".py",
   "mimetype": "text/x-python",
   "name": "python",
   "nbconvert_exporter": "python",
   "pygments_lexer": "ipython2",
   "version": "2.7.6"
  }
 },
 "nbformat": 4,
 "nbformat_minor": 2
}
